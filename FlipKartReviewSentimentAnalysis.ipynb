{
 "cells": [
  {
   "cell_type": "code",
   "execution_count": 1,
   "metadata": {},
   "outputs": [],
   "source": [
    "import requests\n",
    "from bs4 import BeautifulSoup as bsb\n",
    "import time\n",
    "\n",
    "import csv"
   ]
  },
  {
   "cell_type": "code",
   "execution_count": 2,
   "metadata": {},
   "outputs": [],
   "source": [
    "url = 'https://www.flipkart.com/apple-iphone-xs-gold-64-gb/product-reviews/itmf944emgqmhujk?pid=MOBF944EAPESBRZM&lid=LSTMOBF944EAPESBRZMGLSVMN&marketplace=FLIPKART&page=15'    "
   ]
  },
  {
   "cell_type": "code",
   "execution_count": 3,
   "metadata": {},
   "outputs": [],
   "source": [
    "data = requests.get(url).text"
   ]
  },
  {
   "cell_type": "code",
   "execution_count": 4,
   "metadata": {},
   "outputs": [],
   "source": [
    "html = bsb(data,'html.parser')"
   ]
  },
  {
   "cell_type": "code",
   "execution_count": 5,
   "metadata": {},
   "outputs": [
    {
     "data": {
      "text/plain": [
       "'Apple Iphone Xs Gold 64 Gb Reviews: Latest Review of Apple Iphone Xs Gold 64 Gb | Price in India | Flipkart.com'"
      ]
     },
     "execution_count": 5,
     "metadata": {},
     "output_type": "execute_result"
    }
   ],
   "source": [
    "html.title.text"
   ]
  },
  {
   "cell_type": "code",
   "execution_count": 6,
   "metadata": {},
   "outputs": [],
   "source": [
    "reviewSection = html.find_all('div',{'class':\"_3gijNv col-12-12\"})\n",
    "\n",
    "for pages in reviewSection:\n",
    "    nextPage = pages.find_all('div',{'class':'_2zg3yZ _3KSYCY'})"
   ]
  },
  {
   "cell_type": "code",
   "execution_count": 7,
   "metadata": {},
   "outputs": [
    {
     "data": {
      "text/plain": [
       "['/apple-iphone-xs-gold-64-gb/product-reviews/itmf944emgqmhujk?pid=MOBF944EAPESBRZM&lid=LSTMOBF944EAPESBRZMGLSVMN&marketplace=FLIPKART&page=14',\n",
       " '/apple-iphone-xs-gold-64-gb/product-reviews/itmf944emgqmhujk?pid=MOBF944EAPESBRZM&lid=LSTMOBF944EAPESBRZMGLSVMN&marketplace=FLIPKART&page=11',\n",
       " '/apple-iphone-xs-gold-64-gb/product-reviews/itmf944emgqmhujk?pid=MOBF944EAPESBRZM&lid=LSTMOBF944EAPESBRZMGLSVMN&marketplace=FLIPKART&page=12',\n",
       " '/apple-iphone-xs-gold-64-gb/product-reviews/itmf944emgqmhujk?pid=MOBF944EAPESBRZM&lid=LSTMOBF944EAPESBRZMGLSVMN&marketplace=FLIPKART&page=13',\n",
       " '/apple-iphone-xs-gold-64-gb/product-reviews/itmf944emgqmhujk?pid=MOBF944EAPESBRZM&lid=LSTMOBF944EAPESBRZMGLSVMN&marketplace=FLIPKART&page=14',\n",
       " '/apple-iphone-xs-gold-64-gb/product-reviews/itmf944emgqmhujk?pid=MOBF944EAPESBRZM&lid=LSTMOBF944EAPESBRZMGLSVMN&marketplace=FLIPKART&page=15',\n",
       " '/apple-iphone-xs-gold-64-gb/product-reviews/itmf944emgqmhujk?pid=MOBF944EAPESBRZM&lid=LSTMOBF944EAPESBRZMGLSVMN&marketplace=FLIPKART&page=16',\n",
       " '/apple-iphone-xs-gold-64-gb/product-reviews/itmf944emgqmhujk?pid=MOBF944EAPESBRZM&lid=LSTMOBF944EAPESBRZMGLSVMN&marketplace=FLIPKART&page=17',\n",
       " '/apple-iphone-xs-gold-64-gb/product-reviews/itmf944emgqmhujk?pid=MOBF944EAPESBRZM&lid=LSTMOBF944EAPESBRZMGLSVMN&marketplace=FLIPKART&page=18',\n",
       " '/apple-iphone-xs-gold-64-gb/product-reviews/itmf944emgqmhujk?pid=MOBF944EAPESBRZM&lid=LSTMOBF944EAPESBRZMGLSVMN&marketplace=FLIPKART&page=19',\n",
       " '/apple-iphone-xs-gold-64-gb/product-reviews/itmf944emgqmhujk?pid=MOBF944EAPESBRZM&lid=LSTMOBF944EAPESBRZMGLSVMN&marketplace=FLIPKART&page=20',\n",
       " '/apple-iphone-xs-gold-64-gb/product-reviews/itmf944emgqmhujk?pid=MOBF944EAPESBRZM&lid=LSTMOBF944EAPESBRZMGLSVMN&marketplace=FLIPKART&page=16']"
      ]
     },
     "execution_count": 7,
     "metadata": {},
     "output_type": "execute_result"
    }
   ],
   "source": [
    "links = list()\n",
    "for page in nextPage:\n",
    "    jj = page.find_all(href=True)\n",
    "    for link in jj:\n",
    "        links.append(link['href'])\n",
    "\n",
    "links"
   ]
  },
  {
   "cell_type": "code",
   "execution_count": 8,
   "metadata": {},
   "outputs": [
    {
     "name": "stdout",
     "output_type": "stream",
     "text": [
      "Got it at 49990, the best price I think so far. Thanks to Flipkart for that offer. Camera is good, just the wide view and night mode is missing from it as compared to 11 pro.Display 5 out of 5.Performance 5 out of 5.READ MORE\n",
      "Just awesome...best phone...READ MORE\n",
      "Great phone with nice features after so long almost 8 year i shifted android to IOS & i must say iphone is much better easy to use UI not much bloatware camera is also nice ( more to the natural side ) colors not punchy enough but looks good. But why every one complaining about battery performance it is by far the best battery backup i hv seen in any iphone i use dark mode & installed more than 50 apps my battery runs better than my oneplus 7t more than a day.READ MORE\n",
      "Flipkart’s delivery was really bad...i got the delivery late and their customer support is not that good..on the other hand phone is very good if you already have fast charger with you otherwise it will take more than 3 hrs to fully charge other than that phone is great and do get yourself airpods as wellREAD MORE\n",
      "Beat phone in best rangeREAD MORE\n",
      "All the star for iphone, 0 for flipkart delivery and customer supportREAD MORE\n",
      "IL IphoneREAD MORE\n",
      "Buy  50k value for money product only cons are battery life & I phone 11 selfie camera is far batter than xsREAD MORE\n",
      "Fantastic product at the price range 50-55kreally amazing build quality and size of the product is much better then other iPhones.READ MORE\n",
      "Very handy and sleek style. Awesome display quality with best operating systemREAD MORE\n"
     ]
    }
   ],
   "source": [
    "for x in reviewSection:\n",
    "    datas = x.find_all('div',{'class':'qwjRop'})\n",
    "    for data in datas:\n",
    "        print(data.text)"
   ]
  },
  {
   "cell_type": "code",
   "execution_count": 9,
   "metadata": {},
   "outputs": [],
   "source": [
    "class PageExtraction:\n",
    "    \n",
    "    def __init__(self,url):\n",
    "        time.sleep(5)\n",
    "        data = requests.get(url).text\n",
    "        self.html = bsb(data,'html.parser')\n",
    "        print(url)\n",
    "    \n",
    "    def LinkExtraction(self):\n",
    "        time.sleep(5)\n",
    "        reviewSection = self.html.find_all('div',{'class':\"_3gijNv col-12-12\"})\n",
    "        self.links = list()\n",
    "        \n",
    "        for pages in reviewSection:\n",
    "            nextPage = pages.find_all('div',{'class':'_2zg3yZ _3KSYCY'})\n",
    "\n",
    "        for page in nextPage:\n",
    "            jj = page.find_all(href=True)\n",
    "            for link in jj:\n",
    "                self.links.append(link['href'])\n",
    "                \n",
    "    def ReviewExtraction(self):\n",
    "        time.sleep(5)\n",
    "        reviewSection = self.html.find_all('div',{'class':\"_3gijNv col-12-12\"})\n",
    "        for x in reviewSection:\n",
    "            datas = x.find_all('div',{'class':'qwjRop'})\n",
    "            for data in datas:\n",
    "                print(data.text)\n",
    "                with open('Flipkart.csv','a') as file:\n",
    "                    write = csv.writer(file)\n",
    "                \n",
    "                    write.writerow([data.text])\n",
    "        \n",
    "        '''del self.links[0]\n",
    "        \n",
    "        for links in self.links:\n",
    "            time.sleep(5)\n",
    "            data = requests.get('https://www.flipkart.com'+str(link),verify=False).text\n",
    "            self.html = bsb(data,'html.parser')\n",
    "            time.sleep(5)\n",
    "            for x in reviewSection:\n",
    "                datas = x.find_all('div',{'class':'qwjRop'})\n",
    "                for data in datas:\n",
    "                    print(data.text)'''\n",
    "\n",
    "            \n"
   ]
  },
  {
   "cell_type": "code",
   "execution_count": 10,
   "metadata": {},
   "outputs": [
    {
     "name": "stdout",
     "output_type": "stream",
     "text": [
      "https://www.flipkart.com/apple-iphone-xs-gold-64-gb/product-reviews/itmf944emgqmhujk?pid=MOBF944EAPESBRZM&lid=LSTMOBF944EAPESBRZMGLSVMN&marketplace=FLIPKART&page=15\n"
     ]
    }
   ],
   "source": [
    "page = PageExtraction(url)"
   ]
  },
  {
   "cell_type": "code",
   "execution_count": 11,
   "metadata": {},
   "outputs": [],
   "source": [
    "page.LinkExtraction()"
   ]
  },
  {
   "cell_type": "code",
   "execution_count": 12,
   "metadata": {},
   "outputs": [
    {
     "name": "stdout",
     "output_type": "stream",
     "text": [
      "Got it at 49990, the best price I think so far. Thanks to Flipkart for that offer. Camera is good, just the wide view and night mode is missing from it as compared to 11 pro.Display 5 out of 5.Performance 5 out of 5.READ MORE\n",
      "Just awesome...best phone...READ MORE\n",
      "Great phone with nice features after so long almost 8 year i shifted android to IOS & i must say iphone is much better easy to use UI not much bloatware camera is also nice ( more to the natural side ) colors not punchy enough but looks good. But why every one complaining about battery performance it is by far the best battery backup i hv seen in any iphone i use dark mode & installed more than 50 apps my battery runs better than my oneplus 7t more than a day.READ MORE\n",
      "Flipkart’s delivery was really bad...i got the delivery late and their customer support is not that good..on the other hand phone is very good if you already have fast charger with you otherwise it will take more than 3 hrs to fully charge other than that phone is great and do get yourself airpods as wellREAD MORE\n",
      "Beat phone in best rangeREAD MORE\n",
      "All the star for iphone, 0 for flipkart delivery and customer supportREAD MORE\n",
      "IL IphoneREAD MORE\n",
      "Buy  50k value for money product only cons are battery life & I phone 11 selfie camera is far batter than xsREAD MORE\n",
      "Fantastic product at the price range 50-55kreally amazing build quality and size of the product is much better then other iPhones.READ MORE\n",
      "Very handy and sleek style. Awesome display quality with best operating systemREAD MORE\n"
     ]
    }
   ],
   "source": [
    "page.ReviewExtraction()"
   ]
  },
  {
   "cell_type": "code",
   "execution_count": 13,
   "metadata": {
    "scrolled": true
   },
   "outputs": [
    {
     "name": "stdout",
     "output_type": "stream",
     "text": [
      "/apple-iphone-xs-gold-64-gb/product-reviews/itmf944emgqmhujk?pid=MOBF944EAPESBRZM&lid=LSTMOBF944EAPESBRZMGLSVMN&marketplace=FLIPKART&page=14\n",
      "https://www.flipkart.com/apple-iphone-xs-gold-64-gb/product-reviews/itmf944emgqmhujk?pid=MOBF944EAPESBRZM&lid=LSTMOBF944EAPESBRZMGLSVMN&marketplace=FLIPKART&page=14\n",
      "From SE 16GB to XS 64GBTremendous MoveBest Of IPhone People who know me asked why you chose XS instead of 11 The reason isBetter Build QualityBetter DisplayBetter Compactness and HandinessThere’s Only Few Changes From 11Pro to XS Nothing MuchBut It’s IPhoneREAD MORE\n",
      "awesome yrREAD MORE\n",
      "fineREAD MORE\n",
      "Mind blowingREAD MORE\n",
      "Its battery backup is worst. Camera performance in day light is superb but at night or low light is worst. screen quality is very nice.READ MORE\n",
      "Nice phoneREAD MORE\n",
      "GoodREAD MORE\n",
      "Nice mobileREAD MORE\n",
      "Great product....very fast and responsive....much better than the earlier versionsREAD MORE\n",
      "Great experience with this phoneREAD MORE\n",
      "/apple-iphone-xs-gold-64-gb/product-reviews/itmf944emgqmhujk?pid=MOBF944EAPESBRZM&lid=LSTMOBF944EAPESBRZMGLSVMN&marketplace=FLIPKART&page=11\n",
      "https://www.flipkart.com/apple-iphone-xs-gold-64-gb/product-reviews/itmf944emgqmhujk?pid=MOBF944EAPESBRZM&lid=LSTMOBF944EAPESBRZMGLSVMN&marketplace=FLIPKART&page=11\n",
      "My battery capacity dropped to 96% in just 20 days. WasteeREAD MORE\n",
      "Got it for. A lakh but Im happy that I did buy itREAD MORE\n",
      "The phone is really awesome am using it since last 4 months worth for money to buy in Flipkart.READ MORE\n",
      "Absolutely awesomeREAD MORE\n",
      "Nice phoneREAD MORE\n",
      "Fast delivery by flipkart...READ MORE\n",
      "good ..  phone . very fast delivery.READ MORE\n",
      "Nothing to say, its an Iphone 😍😍😍READ MORE\n",
      "Best in classREAD MORE\n",
      "Best iphone till date. in love with this one 😍READ MORE\n",
      "/apple-iphone-xs-gold-64-gb/product-reviews/itmf944emgqmhujk?pid=MOBF944EAPESBRZM&lid=LSTMOBF944EAPESBRZMGLSVMN&marketplace=FLIPKART&page=12\n",
      "https://www.flipkart.com/apple-iphone-xs-gold-64-gb/product-reviews/itmf944emgqmhujk?pid=MOBF944EAPESBRZM&lid=LSTMOBF944EAPESBRZMGLSVMN&marketplace=FLIPKART&page=12\n",
      "Totally overpriced Samsung and one plus 6 always better than thisIt just a brand to show off But you want performance then go with samsung and oneplusREAD MORE\n",
      "I like the display and the ease to hold it. Better grip over iPhone 7READ MORE\n",
      "I have buyed it for 55kIs this phone worth this price?READ MORE\n",
      "Its perfect bt insanely overpriced.. Bt m luving it so much..display is gorgeous/sound is good too/ camera is better compared to iphone x/ battery life isnt that great..One thing i dont like is Flipkart's delivery..it sucks big time.. They took 4 days to deliver 1 lac rupees product..which is bad.Maximum time for delivery should be 2 days.. Must deliver the product this expensive with in 1-2 days..2/5 star for delivery 4/5 star for the phoneREAD MORE\n",
      "hello freindss i order iphone xs but just in hand only 1 hour mobile atomatic off .. sorware isse and going to inpire showroom but no replayREAD MORE\n",
      "excellent phone. got @1. thank you flipkart .READ MORE\n",
      "I ordered 2 iPhones and this is the best gadget. Go for it....READ MORE\n",
      "This is the best smartphone in the market in my point of view. I personally didn't like the three camera design and frosty texture  of the back of iPhone 11 pro. Specification wise, there is not much difference between xs and 11 series, so instead of spending one lakh on 11 pro, xs could be a better value for money at the current price of 55-60k.READ MORE\n",
      "Brilliant productREAD MORE\n",
      "Could there be any beeter phone!Every body knowns Iphone is the best , the display of iphone X is Better than 11READ MORE\n",
      "/apple-iphone-xs-gold-64-gb/product-reviews/itmf944emgqmhujk?pid=MOBF944EAPESBRZM&lid=LSTMOBF944EAPESBRZMGLSVMN&marketplace=FLIPKART&page=13\n",
      "https://www.flipkart.com/apple-iphone-xs-gold-64-gb/product-reviews/itmf944emgqmhujk?pid=MOBF944EAPESBRZM&lid=LSTMOBF944EAPESBRZMGLSVMN&marketplace=FLIPKART&page=13\n",
      "awesome product .READ MORE\n",
      "Good phoneREAD MORE\n",
      "Nice PhoneREAD MORE\n",
      "I’m thrilled by this purchase. Great product at great prices. Gonna thank Flipkart for that, it was an amazing offer. I’d an iPhone X earlier need an upgrade this was good deal.Apple  Performance is truly mesmerising & I love it. But battery is still a one day. Thank you.READ MORE\n",
      "Got Iphone Xs Of 49999 And I Guess its the Best value Price for Xs Feel lucky to get that deal Superb Phone Better then Iphone 11 in Display and touch ...!!READ MORE\n",
      "am happy with iphone xs first time I upgraded old border screen to full screen display am excited with its performance, silver colour not available so I purchased this gold color glass metal body along with OLED display like wow.. only thing disappointed from flipkart while selling discounted rate they are sending old stock  I received FEB 2019 Mfd date box when I received last dec 2019.READ MORE\n",
      "There is no doubt that apple makes one of the best overall phones in the world. No one can match the benchmark and the performance of apple also apple phones are built to last although apple products are very pricy in india but good products come at a priceREAD MORE\n",
      "Heat muchREAD MORE\n",
      "The best smartphone of 2018READ MORE\n",
      "SuperREAD MORE\n",
      "/apple-iphone-xs-gold-64-gb/product-reviews/itmf944emgqmhujk?pid=MOBF944EAPESBRZM&lid=LSTMOBF944EAPESBRZMGLSVMN&marketplace=FLIPKART&page=14\n",
      "https://www.flipkart.com/apple-iphone-xs-gold-64-gb/product-reviews/itmf944emgqmhujk?pid=MOBF944EAPESBRZM&lid=LSTMOBF944EAPESBRZMGLSVMN&marketplace=FLIPKART&page=14\n",
      "From SE 16GB to XS 64GBTremendous MoveBest Of IPhone People who know me asked why you chose XS instead of 11 The reason isBetter Build QualityBetter DisplayBetter Compactness and HandinessThere’s Only Few Changes From 11Pro to XS Nothing MuchBut It’s IPhoneREAD MORE\n",
      "awesome yrREAD MORE\n",
      "fineREAD MORE\n",
      "Mind blowingREAD MORE\n",
      "Its battery backup is worst. Camera performance in day light is superb but at night or low light is worst. screen quality is very nice.READ MORE\n",
      "Nice phoneREAD MORE\n",
      "GoodREAD MORE\n",
      "Nice mobileREAD MORE\n",
      "Great product....very fast and responsive....much better than the earlier versionsREAD MORE\n",
      "Great experience with this phoneREAD MORE\n",
      "/apple-iphone-xs-gold-64-gb/product-reviews/itmf944emgqmhujk?pid=MOBF944EAPESBRZM&lid=LSTMOBF944EAPESBRZMGLSVMN&marketplace=FLIPKART&page=15\n",
      "https://www.flipkart.com/apple-iphone-xs-gold-64-gb/product-reviews/itmf944emgqmhujk?pid=MOBF944EAPESBRZM&lid=LSTMOBF944EAPESBRZMGLSVMN&marketplace=FLIPKART&page=15\n",
      "Got it at 49990, the best price I think so far. Thanks to Flipkart for that offer. Camera is good, just the wide view and night mode is missing from it as compared to 11 pro.Display 5 out of 5.Performance 5 out of 5.READ MORE\n",
      "Just awesome...best phone...READ MORE\n",
      "Great phone with nice features after so long almost 8 year i shifted android to IOS & i must say iphone is much better easy to use UI not much bloatware camera is also nice ( more to the natural side ) colors not punchy enough but looks good. But why every one complaining about battery performance it is by far the best battery backup i hv seen in any iphone i use dark mode & installed more than 50 apps my battery runs better than my oneplus 7t more than a day.READ MORE\n",
      "Flipkart’s delivery was really bad...i got the delivery late and their customer support is not that good..on the other hand phone is very good if you already have fast charger with you otherwise it will take more than 3 hrs to fully charge other than that phone is great and do get yourself airpods as wellREAD MORE\n",
      "Beat phone in best rangeREAD MORE\n",
      "All the star for iphone, 0 for flipkart delivery and customer supportREAD MORE\n",
      "IL IphoneREAD MORE\n",
      "Buy  50k value for money product only cons are battery life & I phone 11 selfie camera is far batter than xsREAD MORE\n",
      "Fantastic product at the price range 50-55kreally amazing build quality and size of the product is much better then other iPhones.READ MORE\n",
      "Very handy and sleek style. Awesome display quality with best operating systemREAD MORE\n",
      "/apple-iphone-xs-gold-64-gb/product-reviews/itmf944emgqmhujk?pid=MOBF944EAPESBRZM&lid=LSTMOBF944EAPESBRZMGLSVMN&marketplace=FLIPKART&page=16\n",
      "https://www.flipkart.com/apple-iphone-xs-gold-64-gb/product-reviews/itmf944emgqmhujk?pid=MOBF944EAPESBRZM&lid=LSTMOBF944EAPESBRZMGLSVMN&marketplace=FLIPKART&page=16\n"
     ]
    },
    {
     "name": "stdout",
     "output_type": "stream",
     "text": [
      "Super quality parformance very niceREAD MORE\n",
      "Very best phone amazing delivery within 24 hours thankyou flipkartREAD MORE\n",
      "Camera....battery health is superbREAD MORE\n",
      "Amazing phone with lovely features. Adequately sized screen  with a battery powerful to last the entire day.READ MORE\n",
      "Overall nice phone with average cameraREAD MORE\n",
      "With 4 more years of support from apple, and a beautiful camera and display, at this price point, great deal from flipkartREAD MORE\n",
      "Best Buy in Republic Day sale Worth every penny 😎READ MORE\n",
      "Just awesome phoneREAD MORE\n",
      "Not for oneplus userREAD MORE\n",
      "It’s amazing picture Quality is too goodREAD MORE\n",
      "/apple-iphone-xs-gold-64-gb/product-reviews/itmf944emgqmhujk?pid=MOBF944EAPESBRZM&lid=LSTMOBF944EAPESBRZMGLSVMN&marketplace=FLIPKART&page=17\n",
      "https://www.flipkart.com/apple-iphone-xs-gold-64-gb/product-reviews/itmf944emgqmhujk?pid=MOBF944EAPESBRZM&lid=LSTMOBF944EAPESBRZMGLSVMN&marketplace=FLIPKART&page=17\n",
      "It's camera is very nice.READ MORE\n",
      "Best phoneREAD MORE\n",
      "Got it during Republic Day sale .This is my first iPhone and it’s amazing in-terms of quality and performance. Lacks night mode in camera which would have made this phone even more competitive. Battery life is okay it’s because of it’s LED display which is just awesome. Handy phone at 5.8” fullscreen display for one hand operations. Premium build and feel. Touch is simply unmatched to any-other brands it just flows. It come with a 5W charger which will take more than 2 hours to charge to 100%...READ MORE\n",
      "It's an amazing phone.  I bought it for my friend. I got it for an amazing price tag. And the doubt that I had in mind about the originality of the product has no basis. I got the original one. Thankyou flipcart...READ MORE\n",
      "Very Nice product. I am using i phone from last 8 years. Its a worth upgrade from  i phone 8 plus.Grabbed it @ 48499.Thanks to flipkart team.READ MORE\n",
      "1 no. iPhone XS❤️I love the Oled display😊Camera v mast h🤗😍😍READ MORE\n",
      "Finally after 10 days i got this phone on my hands,feeling loved for the Flipkart republic day sale .Thank you flipkart❤️❤️READ MORE\n",
      "Awesome phone but battery life is poorREAD MORE\n",
      "Good product nice camera waluyu for moneyREAD MORE\n",
      "NiceREAD MORE\n",
      "/apple-iphone-xs-gold-64-gb/product-reviews/itmf944emgqmhujk?pid=MOBF944EAPESBRZM&lid=LSTMOBF944EAPESBRZMGLSVMN&marketplace=FLIPKART&page=18\n",
      "https://www.flipkart.com/apple-iphone-xs-gold-64-gb/product-reviews/itmf944emgqmhujk?pid=MOBF944EAPESBRZM&lid=LSTMOBF944EAPESBRZMGLSVMN&marketplace=FLIPKART&page=18\n",
      "ExcellentREAD MORE\n",
      "Nice ProductsREAD MORE\n",
      "Great phone awesome performance.READ MORE\n",
      "just Apple logo enough to describeREAD MORE\n",
      "Apple brand is the best osaam phoneREAD MORE\n",
      "On time delivery.Genuine product. Keep going Flipkart 👍🏻READ MORE\n",
      "One day of use superb experience exception with batteryREAD MORE\n",
      "Grey colour is just awesomeREAD MORE\n",
      "good apple phone I love itREAD MORE\n",
      "I phone is I phoneREAD MORE\n",
      "/apple-iphone-xs-gold-64-gb/product-reviews/itmf944emgqmhujk?pid=MOBF944EAPESBRZM&lid=LSTMOBF944EAPESBRZMGLSVMN&marketplace=FLIPKART&page=19\n",
      "https://www.flipkart.com/apple-iphone-xs-gold-64-gb/product-reviews/itmf944emgqmhujk?pid=MOBF944EAPESBRZM&lid=LSTMOBF944EAPESBRZMGLSVMN&marketplace=FLIPKART&page=19\n",
      "Best buy in 50000 very smooth and nice mobileREAD MORE\n",
      "Nice PhoneREAD MORE\n",
      "Never a fan of iphone but now i m loving itAwsm UI good performance nice cameraREAD MORE\n",
      "One of the best smartphone by apple till date. Compact size and powerful processor. Camera quality is superb as well the battery life. Charging takes a bit extra time. Overall champion.READ MORE\n",
      "Great product. Camera is amazingREAD MORE\n",
      "Truely a beast among all smartphonesREAD MORE\n",
      "Awasome product.READ MORE\n",
      "Thank you for fast delivery with a seal pack.READ MORE\n",
      "Until this purchase i was pure android user. But I must tell you..This iPhone is a beast!! Be it speed or camera or UI. Feel and touch is so amazing.READ MORE\n",
      "Nice phone , look awesome, designed wellREAD MORE\n",
      "/apple-iphone-xs-gold-64-gb/product-reviews/itmf944emgqmhujk?pid=MOBF944EAPESBRZM&lid=LSTMOBF944EAPESBRZMGLSVMN&marketplace=FLIPKART&page=20\n",
      "https://www.flipkart.com/apple-iphone-xs-gold-64-gb/product-reviews/itmf944emgqmhujk?pid=MOBF944EAPESBRZM&lid=LSTMOBF944EAPESBRZMGLSVMN&marketplace=FLIPKART&page=20\n",
      "Superb foneREAD MORE\n",
      "Improve delivery daysREAD MORE\n",
      "Excellent experience. Delivered 2 days early from committed date.READ MORE\n",
      "the phone is amazing and i bought it for Rs 1,04,000 on bigg billion dayREAD MORE\n",
      "disappointedREAD MORE\n",
      "Phone comes with low network/wifi issuesi have never had issues with my iphones in the past. I happen to have oneplus 6t along with this phone and everywhere I clearly see that OnePlus has much better network quality. Indoor coverage is poor on this phone.READ MORE\n",
      "Hello Frands, Yes i have purchased iPhone XS without selling my kidneys. Because i kept them safe for Corona & Elephant.I personally hated the big screen phones since i have seen everyone swiping on the big screens in delhi metro. That time i was so happy with my handy iPhone 5S. I kept upgrading iPhone with new generation iPhones. With iPhone XS upgrade i personally in love with this gold beauty. Display : Super Gorgeous OLED display,Performance : Super,  Color : Gold,  Face ID : Super...READ MORE\n",
      "I am a iPhone lover & I really my iPhone within time and good quality... I appreciate the @TrueCom Seller and Flipkart... 🥰READ MORE\n",
      "Front camera is still better in my pixel.Portraits are not as good as pixel.Loudspeakers are fantastic on this device as well as display.Good phone for apple fans and not for pixel or mate series owners!READ MORE\n",
      "Great product, but, surely does not justify the price ...READ MORE\n",
      "/apple-iphone-xs-gold-64-gb/product-reviews/itmf944emgqmhujk?pid=MOBF944EAPESBRZM&lid=LSTMOBF944EAPESBRZMGLSVMN&marketplace=FLIPKART&page=16\n",
      "https://www.flipkart.com/apple-iphone-xs-gold-64-gb/product-reviews/itmf944emgqmhujk?pid=MOBF944EAPESBRZM&lid=LSTMOBF944EAPESBRZMGLSVMN&marketplace=FLIPKART&page=16\n",
      "Super quality parformance very niceREAD MORE\n",
      "Very best phone amazing delivery within 24 hours thankyou flipkartREAD MORE\n",
      "Camera....battery health is superbREAD MORE\n",
      "Amazing phone with lovely features. Adequately sized screen  with a battery powerful to last the entire day.READ MORE\n",
      "Overall nice phone with average cameraREAD MORE\n",
      "With 4 more years of support from apple, and a beautiful camera and display, at this price point, great deal from flipkartREAD MORE\n",
      "Best Buy in Republic Day sale Worth every penny 😎READ MORE\n",
      "Just awesome phoneREAD MORE\n",
      "Not for oneplus userREAD MORE\n",
      "It’s amazing picture Quality is too goodREAD MORE\n"
     ]
    }
   ],
   "source": [
    "for link in page.links:\n",
    "    time.sleep(5)\n",
    "    print(link)\n",
    "    page = PageExtraction('https://www.flipkart.com'+str(link))\n",
    "    page.ReviewExtraction()"
   ]
  },
  {
   "cell_type": "code",
   "execution_count": 14,
   "metadata": {},
   "outputs": [
    {
     "data": {
      "text/plain": [
       "\"with open('Flipkart.csv','a') as file:\\n    write = writer = csv.DictWriter(file, fieldnames = 'Reviews')\""
      ]
     },
     "execution_count": 14,
     "metadata": {},
     "output_type": "execute_result"
    }
   ],
   "source": [
    "\"\"\"with open('Flipkart.csv','a') as file:\n",
    "    write = writer = csv.DictWriter(file, fieldnames = 'Reviews')\"\"\""
   ]
  },
  {
   "cell_type": "code",
   "execution_count": null,
   "metadata": {},
   "outputs": [],
   "source": []
  }
 ],
 "metadata": {
  "kernelspec": {
   "display_name": "Python 3",
   "language": "python",
   "name": "python3"
  },
  "language_info": {
   "codemirror_mode": {
    "name": "ipython",
    "version": 3
   },
   "file_extension": ".py",
   "mimetype": "text/x-python",
   "name": "python",
   "nbconvert_exporter": "python",
   "pygments_lexer": "ipython3",
   "version": "3.7.4"
  }
 },
 "nbformat": 4,
 "nbformat_minor": 2
}
